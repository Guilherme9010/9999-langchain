{
 "cells": [
  {
   "cell_type": "markdown",
   "id": "d332fb05",
   "metadata": {},
   "source": [
    "### Explorando Chat Models"
   ]
  },
  {
   "cell_type": "code",
   "execution_count": 1,
   "id": "16918e54",
   "metadata": {},
   "outputs": [
    {
     "name": "stderr",
     "output_type": "stream",
     "text": [
      "C:\\Users\\Naja\\AppData\\Local\\Temp\\ipykernel_13144\\1100652966.py:2: LangChainDeprecationWarning: The class `OpenAI` was deprecated in LangChain 0.0.10 and will be removed in 1.0. An updated version of the class exists in the :class:`~langchain-openai package and should be used instead. To use it run `pip install -U :class:`~langchain-openai` and import as `from :class:`~langchain_openai import OpenAI``.\n",
      "  llm = OpenAI(model=\"gpt-3.5-turbo-instruct\")\n"
     ]
    }
   ],
   "source": [
    "from langchain import OpenAI\n",
    "llm = OpenAI(model=\"gpt-3.5-turbo-instruct\")"
   ]
  },
  {
   "cell_type": "code",
   "execution_count": 2,
   "id": "111a0f93",
   "metadata": {},
   "outputs": [
    {
     "data": {
      "text/plain": [
       "'\\n\\nMaria era uma estudante de computação curiosa e decidiu aprender sobre aprendizado de máquina. Ela estudou algoritmos, analisou dados e treinou modelos, até que finalmente conseguiu criar um programa que previa o tempo com precisão. Maria ficou encantada com a capacidade da máquina em aprender e aplicar conhecimento. Agora, ela sabia que o futuro da tecnologia estava nas mãos da inteligência artificial.'"
      ]
     },
     "execution_count": 2,
     "metadata": {},
     "output_type": "execute_result"
    }
   ],
   "source": [
    "prompt = \"Conte uma história sobre aprendizado de máquina com, no máximo, 50 palavras\"\n",
    "llm.invoke(prompt)"
   ]
  },
  {
   "cell_type": "markdown",
   "id": "e6a8f36a",
   "metadata": {},
   "source": [
    "### Sem diferença com o método anterior"
   ]
  },
  {
   "cell_type": "code",
   "execution_count": 3,
   "id": "f7121baf",
   "metadata": {},
   "outputs": [
    {
     "name": "stdout",
     "output_type": "stream",
     "text": [
      "\n",
      "\n",
      "Era uma vez um jovem programador que sonhava em criar algoritmos inteligentes. Ele estudou muito sobre aprendizado de máquina e, finalmente, construiu um modelo capaz de prever se um paciente tinha ou não uma doença cardíaca. Sua ferramenta ajudou médicos a salvar vidas e ele percebeu que o verdadeiro aprendizado é colocar a tecnologia a serviço da humanidade. "
     ]
    }
   ],
   "source": [
    "prompt = \"Conte uma história sobre aprendizado de máquina com, no máximo, 50 palavras\"\n",
    "for trecho in llm.stream(prompt):\n",
    "    print(trecho, end=\"\")"
   ]
  },
  {
   "cell_type": "markdown",
   "id": "e6bb7412",
   "metadata": {},
   "source": [
    "### Carregando várias perguntas de uma só vez em lote no Prompt"
   ]
  },
  {
   "cell_type": "code",
   "execution_count": 4,
   "id": "60fc8c1c",
   "metadata": {},
   "outputs": [
    {
     "data": {
      "text/plain": [
       "['\\n\\nA Memória RAM (Random Access Memory) é um tipo de memória volátil presente em computadores, smartphones e outros dispositivos eletrônicos. Ela é responsável por armazenar temporariamente os dados e programas que estão sendo utilizados pelo sistema operacional e pelos aplicativos em execução.\\n\\nAo contrário do que acontece com a memória de armazenamento (como o disco rígido), a memória RAM não armazena informações permanentemente, ou seja, ela perde os dados armazenados quando o dispositivo é desligado. Isso acontece porque a memória RAM necessita de energia elétrica para manter os dados armazenados.\\n\\nA velocidade da memória RAM é medida em MHz (megahertz) ou GHz (gigahertz) e quanto maior for a sua capacidade e velocidade, mais rápido será o desempenho do dispositivo. A memória RAM é essencial para o funcionamento adequado de um computador, pois permite que os programas sejam carregados e executados rapidamente. ',\n",
       " '\\n\\nDisco rígido (ou HD, sigla para Hard Disk) é um dispositivo de armazenamento de dados magnético utilizado em computadores e outros dispositivos eletrônicos. Ele é responsável por armazenar permanentemente os dados e programas que são utilizados pelo sistema operacional e pelos usuários.\\n\\nO disco rígido é composto por um ou mais discos (também chamados de \"pratos\") que são revestidos com um material magnético e giram em alta velocidade. As informações são gravadas e lidas por cabeças de leitura e gravação que se movem sobre a superfície dos discos.\\n\\nOs discos rígidos possuem capacidade de armazenamento que pode variar de alguns gigabytes (GB) até vários terabytes (TB), dependendo do modelo. Além disso, eles também possuem uma velocidade de leitura e gravação, medida em rotações por minuto (RPM), que pode influenciar no desempenho do computador.\\n\\nO disco rígido é uma das partes mais importantes de um computador, pois é nele que ficam armazenados os arquivos, programas',\n",
       " '\\n\\nO processador, também conhecido como Unidade Central de Processamento (CPU), é o componente principal de um computador responsável por executar e controlar as instruções e operações de um sistema computacional. Ele é responsável por processar dados, realizar cálculos e controlar a execução de programas e aplicativos.\\n\\nO processador é composto por diversos componentes eletrônicos, como transistores, circuitos integrados e memória cache, e é responsável por realizar milhões de operações por segundo. É considerado o cérebro do computador, pois coordena e controla todas as tarefas realizadas pelo sistema.\\n\\nExistem diversos tipos de processadores no mercado, cada um com características e desempenhos distintos. Os mais comuns são os processadores de arquitetura x86, utilizados em computadores pessoais, e os processadores ARM, presentes em dispositivos móveis como smartphones e tablets.\\n\\nAlguns dos principais fabricantes de processadores são a Intel e a AMD. Cada fabricante possui sua própria linha de processadores, com diferentes modelos e especificações, que são atualizados e aprimorados constantemente.\\n\\nO']"
      ]
     },
     "execution_count": 4,
     "metadata": {},
     "output_type": "execute_result"
    }
   ],
   "source": [
    "perguntas = [\"O que é Memória RAM?\",\n",
    "             \"O que é Disco Rígido?\",\n",
    "             \"O que é o Processador\"]\n",
    "\n",
    "llm.batch(perguntas)"
   ]
  },
  {
   "cell_type": "markdown",
   "id": "98f80d50",
   "metadata": {},
   "source": [
    "### Chat Models"
   ]
  },
  {
   "cell_type": "code",
   "execution_count": 5,
   "id": "c57877aa",
   "metadata": {},
   "outputs": [],
   "source": [
    "from langchain_openai import ChatOpenAI\n",
    "\n",
    "chat = ChatOpenAI(model=\"gpt-3.5-turbo-0125\")"
   ]
  },
  {
   "cell_type": "code",
   "execution_count": 6,
   "id": "c0f9269f",
   "metadata": {},
   "outputs": [],
   "source": [
    "from langchain_core.messages import HumanMessage, SystemMessage\n",
    "\n",
    "mensagens = [\n",
    "    SystemMessage(content = \"Você é um assistente que responde com ironia\"),\n",
    "    HumanMessage(content = \"Qual o papel da memória cache?\")]\n",
    "\n",
    "resposta = chat.invoke(mensagens)"
   ]
  },
  {
   "cell_type": "code",
   "execution_count": 7,
   "id": "7955f514",
   "metadata": {},
   "outputs": [
    {
     "data": {
      "text/plain": [
       "{'token_usage': {'completion_tokens': 67,\n",
       "  'prompt_tokens': 30,\n",
       "  'total_tokens': 97,\n",
       "  'completion_tokens_details': {'accepted_prediction_tokens': 0,\n",
       "   'audio_tokens': 0,\n",
       "   'reasoning_tokens': 0,\n",
       "   'rejected_prediction_tokens': 0},\n",
       "  'prompt_tokens_details': {'audio_tokens': 0, 'cached_tokens': 0}},\n",
       " 'model_name': 'gpt-3.5-turbo-0125',\n",
       " 'system_fingerprint': None,\n",
       " 'id': 'chatcmpl-C9t54zO5GWhXI1HTgfoHd1DoQnp1Y',\n",
       " 'service_tier': 'default',\n",
       " 'finish_reason': 'stop',\n",
       " 'logprobs': None}"
      ]
     },
     "execution_count": 7,
     "metadata": {},
     "output_type": "execute_result"
    }
   ],
   "source": [
    "#resposta\n",
    "resposta.response_metadata\n",
    "#resposta.content"
   ]
  },
  {
   "cell_type": "markdown",
   "id": "c245f808",
   "metadata": {},
   "source": [
    "### Prompt Few Shot\n",
    "- Pode-se especificar o contexto para aprimorar a resposta."
   ]
  },
  {
   "cell_type": "code",
   "execution_count": 8,
   "id": "3bebb8b1",
   "metadata": {},
   "outputs": [],
   "source": [
    "from langchain_openai import ChatOpenAI\n",
    "\n",
    "#chat = ChatOpenAI(model=\"gpt-3.5-turbo-0125\")\n",
    "chat = ChatOpenAI()"
   ]
  },
  {
   "cell_type": "markdown",
   "id": "d0698d35",
   "metadata": {},
   "source": [
    "#### No caso, as quatro primeiras interações entre HumanMessage e AIMessage servem para aprimoramento da resposta."
   ]
  },
  {
   "cell_type": "code",
   "execution_count": 9,
   "id": "0f33cd3a",
   "metadata": {},
   "outputs": [
    {
     "data": {
      "text/plain": [
       "AIMessage(content='Quinta-Feira', additional_kwargs={'refusal': None}, response_metadata={'token_usage': {'completion_tokens': 5, 'prompt_tokens': 58, 'total_tokens': 63, 'completion_tokens_details': {'accepted_prediction_tokens': 0, 'audio_tokens': 0, 'reasoning_tokens': 0, 'rejected_prediction_tokens': 0}, 'prompt_tokens_details': {'audio_tokens': 0, 'cached_tokens': 0}}, 'model_name': 'gpt-3.5-turbo-0125', 'system_fingerprint': None, 'id': 'chatcmpl-C9t55XTMPXfvU5iR8L2ZQaGWWJY3E', 'service_tier': 'default', 'finish_reason': 'stop', 'logprobs': None}, id='run--f2f5ae9a-df3f-480e-89f8-45d7210cec95-0', usage_metadata={'input_tokens': 58, 'output_tokens': 5, 'total_tokens': 63, 'input_token_details': {'audio': 0, 'cache_read': 0}, 'output_token_details': {'audio': 0, 'reasoning': 0}})"
      ]
     },
     "execution_count": 9,
     "metadata": {},
     "output_type": "execute_result"
    }
   ],
   "source": [
    "from langchain_core.messages import HumanMessage, AIMessage\n",
    "\n",
    "mensagens = [\n",
    "    HumanMessage(content = \"Qual é o primeiro dia da semana?\"),\n",
    "    AIMessage(content=\"Domingo\"),\n",
    "    HumanMessage(content = \"Qual é o terceiro dia da semana?\"),\n",
    "    AIMessage(content=\"Terça-Feira\"),\n",
    "    HumanMessage(content = \"Qual é o quinto dia da semana?\")]\n",
    "\n",
    "chat.invoke(mensagens)"
   ]
  },
  {
   "cell_type": "markdown",
   "id": "2b0e09ce",
   "metadata": {},
   "source": [
    "#### Pode-se fazer o Debug da construção da resposta"
   ]
  },
  {
   "cell_type": "code",
   "execution_count": 10,
   "id": "f39dab31",
   "metadata": {},
   "outputs": [
    {
     "name": "stdout",
     "output_type": "stream",
     "text": [
      "\u001b[32;1m\u001b[1;3m[llm/start]\u001b[0m \u001b[1m[llm:ChatOpenAI] Entering LLM run with input:\n",
      "\u001b[0m{\n",
      "  \"prompts\": [\n",
      "    \"Human: Qual é o primeiro dia da semana?\\nAI: Domingo\\nHuman: Qual é o terceiro dia da semana?\\nAI: Terça-Feira\\nHuman: Qual é o quinto dia da semana?\"\n",
      "  ]\n",
      "}\n",
      "\u001b[36;1m\u001b[1;3m[llm/end]\u001b[0m \u001b[1m[llm:ChatOpenAI] [579ms] Exiting LLM run with output:\n",
      "\u001b[0m{\n",
      "  \"generations\": [\n",
      "    [\n",
      "      {\n",
      "        \"text\": \"Quinta-Feira\",\n",
      "        \"generation_info\": {\n",
      "          \"finish_reason\": \"stop\",\n",
      "          \"logprobs\": null\n",
      "        },\n",
      "        \"type\": \"ChatGeneration\",\n",
      "        \"message\": {\n",
      "          \"lc\": 1,\n",
      "          \"type\": \"constructor\",\n",
      "          \"id\": [\n",
      "            \"langchain\",\n",
      "            \"schema\",\n",
      "            \"messages\",\n",
      "            \"AIMessage\"\n",
      "          ],\n",
      "          \"kwargs\": {\n",
      "            \"content\": \"Quinta-Feira\",\n",
      "            \"additional_kwargs\": {\n",
      "              \"refusal\": null\n",
      "            },\n",
      "            \"response_metadata\": {\n",
      "              \"token_usage\": {\n",
      "                \"completion_tokens\": 5,\n",
      "                \"prompt_tokens\": 58,\n",
      "                \"total_tokens\": 63,\n",
      "                \"completion_tokens_details\": {\n",
      "                  \"accepted_prediction_tokens\": 0,\n",
      "                  \"audio_tokens\": 0,\n",
      "                  \"reasoning_tokens\": 0,\n",
      "                  \"rejected_prediction_tokens\": 0\n",
      "                },\n",
      "                \"prompt_tokens_details\": {\n",
      "                  \"audio_tokens\": 0,\n",
      "                  \"cached_tokens\": 0\n",
      "                }\n",
      "              },\n",
      "              \"model_name\": \"gpt-3.5-turbo-0125\",\n",
      "              \"system_fingerprint\": null,\n",
      "              \"id\": \"chatcmpl-C9t56CcfYYVWhSjezT7vKVCuI946D\",\n",
      "              \"service_tier\": \"default\",\n",
      "              \"finish_reason\": \"stop\",\n",
      "              \"logprobs\": null\n",
      "            },\n",
      "            \"type\": \"ai\",\n",
      "            \"id\": \"run--32edbf3a-b9f4-4b3b-ba76-637149f9159e-0\",\n",
      "            \"usage_metadata\": {\n",
      "              \"input_tokens\": 58,\n",
      "              \"output_tokens\": 5,\n",
      "              \"total_tokens\": 63,\n",
      "              \"input_token_details\": {\n",
      "                \"audio\": 0,\n",
      "                \"cache_read\": 0\n",
      "              },\n",
      "              \"output_token_details\": {\n",
      "                \"audio\": 0,\n",
      "                \"reasoning\": 0\n",
      "              }\n",
      "            },\n",
      "            \"tool_calls\": [],\n",
      "            \"invalid_tool_calls\": []\n",
      "          }\n",
      "        }\n",
      "      }\n",
      "    ]\n",
      "  ],\n",
      "  \"llm_output\": {\n",
      "    \"token_usage\": {\n",
      "      \"completion_tokens\": 5,\n",
      "      \"prompt_tokens\": 58,\n",
      "      \"total_tokens\": 63,\n",
      "      \"completion_tokens_details\": {\n",
      "        \"accepted_prediction_tokens\": 0,\n",
      "        \"audio_tokens\": 0,\n",
      "        \"reasoning_tokens\": 0,\n",
      "        \"rejected_prediction_tokens\": 0\n",
      "      },\n",
      "      \"prompt_tokens_details\": {\n",
      "        \"audio_tokens\": 0,\n",
      "        \"cached_tokens\": 0\n",
      "      }\n",
      "    },\n",
      "    \"model_name\": \"gpt-3.5-turbo-0125\",\n",
      "    \"system_fingerprint\": null,\n",
      "    \"id\": \"chatcmpl-C9t56CcfYYVWhSjezT7vKVCuI946D\",\n",
      "    \"service_tier\": \"default\"\n",
      "  },\n",
      "  \"run\": null,\n",
      "  \"type\": \"LLMResult\"\n",
      "}\n"
     ]
    },
    {
     "data": {
      "text/plain": [
       "AIMessage(content='Quinta-Feira', additional_kwargs={'refusal': None}, response_metadata={'token_usage': {'completion_tokens': 5, 'prompt_tokens': 58, 'total_tokens': 63, 'completion_tokens_details': {'accepted_prediction_tokens': 0, 'audio_tokens': 0, 'reasoning_tokens': 0, 'rejected_prediction_tokens': 0}, 'prompt_tokens_details': {'audio_tokens': 0, 'cached_tokens': 0}}, 'model_name': 'gpt-3.5-turbo-0125', 'system_fingerprint': None, 'id': 'chatcmpl-C9t56CcfYYVWhSjezT7vKVCuI946D', 'service_tier': 'default', 'finish_reason': 'stop', 'logprobs': None}, id='run--32edbf3a-b9f4-4b3b-ba76-637149f9159e-0', usage_metadata={'input_tokens': 58, 'output_tokens': 5, 'total_tokens': 63, 'input_token_details': {'audio': 0, 'cache_read': 0}, 'output_token_details': {'audio': 0, 'reasoning': 0}})"
      ]
     },
     "execution_count": 10,
     "metadata": {},
     "output_type": "execute_result"
    }
   ],
   "source": [
    "import langchain\n",
    "\n",
    "langchain.debug = True\n",
    "chat.invoke(mensagens)"
   ]
  },
  {
   "cell_type": "code",
   "execution_count": 11,
   "id": "c0a2cac7",
   "metadata": {},
   "outputs": [],
   "source": [
    "# Desabilita o modo Debub\n",
    "langchain.debug = False"
   ]
  },
  {
   "cell_type": "markdown",
   "id": "73e08ede",
   "metadata": {},
   "source": [
    "### Cacheamento (visa a melhoria do tempo de resposta do modelo)"
   ]
  },
  {
   "cell_type": "code",
   "execution_count": 12,
   "id": "929510ce",
   "metadata": {},
   "outputs": [],
   "source": [
    "from langchain_openai.chat_models import ChatOpenAI\n",
    "\n",
    "chat = ChatOpenAI(model=\"gpt-3.5-turbo-0125\")"
   ]
  },
  {
   "cell_type": "code",
   "execution_count": 13,
   "id": "9de69476",
   "metadata": {},
   "outputs": [],
   "source": [
    "from langchain_core.messages import HumanMessage, SystemMessage\n",
    "\n",
    "mensagens = [\n",
    "    SystemMessage(content = \"Você é um assistente irônico\"),\n",
    "    HumanMessage(content = \"Qual é o quinto dia da semana?\")]"
   ]
  },
  {
   "cell_type": "code",
   "execution_count": 14,
   "id": "71426dbf",
   "metadata": {},
   "outputs": [],
   "source": [
    "from langchain.cache import InMemoryCache\n",
    "from langchain.globals import set_llm_cache\n",
    "\n",
    "set_llm_cache(InMemoryCache())"
   ]
  },
  {
   "cell_type": "code",
   "execution_count": 15,
   "id": "c4be5fda",
   "metadata": {},
   "outputs": [
    {
     "name": "stdout",
     "output_type": "stream",
     "text": [
      "CPU times: total: 0 ns\n",
      "Wall time: 872 ms\n"
     ]
    },
    {
     "data": {
      "text/plain": [
       "AIMessage(content='Ah, o quinto dia da semana é o dia em que muita gente já está contando os minutos para o final de semana, conhecido como sexta-feira. Mas se preferir olhar de outra forma, quintou... quero dizer, quinta-feira!', additional_kwargs={'refusal': None}, response_metadata={'token_usage': {'completion_tokens': 57, 'prompt_tokens': 28, 'total_tokens': 85, 'completion_tokens_details': {'accepted_prediction_tokens': 0, 'audio_tokens': 0, 'reasoning_tokens': 0, 'rejected_prediction_tokens': 0}, 'prompt_tokens_details': {'audio_tokens': 0, 'cached_tokens': 0}}, 'model_name': 'gpt-3.5-turbo-0125', 'system_fingerprint': None, 'id': 'chatcmpl-C9t57i32OXENMKREqbR9X2iVjws83', 'service_tier': 'default', 'finish_reason': 'stop', 'logprobs': None}, id='run--4a64e5bd-31c5-47ca-b8a6-ef9e6f9158a7-0', usage_metadata={'input_tokens': 28, 'output_tokens': 57, 'total_tokens': 85, 'input_token_details': {'audio': 0, 'cache_read': 0}, 'output_token_details': {'audio': 0, 'reasoning': 0}})"
      ]
     },
     "execution_count": 15,
     "metadata": {},
     "output_type": "execute_result"
    }
   ],
   "source": [
    "%%time\n",
    "chat.invoke(mensagens)"
   ]
  },
  {
   "cell_type": "markdown",
   "id": "4475445a",
   "metadata": {},
   "source": [
    "### Cacheamento no SQLite"
   ]
  },
  {
   "cell_type": "code",
   "execution_count": 16,
   "id": "2f9df2ac",
   "metadata": {},
   "outputs": [],
   "source": [
    "from langchain.cache import SQLiteCache\n",
    "from langchain.globals import set_llm_cache\n",
    "#import os\n",
    "#os.makedirs(\"files\", exist_ok=True)\n",
    "\n",
    "set_llm_cache(SQLiteCache(database_path=\"files/langchain_cache.sqlite\"))"
   ]
  },
  {
   "cell_type": "code",
   "execution_count": 17,
   "id": "179882f5",
   "metadata": {},
   "outputs": [
    {
     "name": "stdout",
     "output_type": "stream",
     "text": [
      "CPU times: total: 15.6 ms\n",
      "Wall time: 1.57 s\n"
     ]
    },
    {
     "data": {
      "text/plain": [
       "AIMessage(content='A sexta-feira. Afinal, a semana tem 5 dias, né?', additional_kwargs={'refusal': None}, response_metadata={'token_usage': {'completion_tokens': 17, 'prompt_tokens': 28, 'total_tokens': 45, 'completion_tokens_details': {'accepted_prediction_tokens': 0, 'audio_tokens': 0, 'reasoning_tokens': 0, 'rejected_prediction_tokens': 0}, 'prompt_tokens_details': {'audio_tokens': 0, 'cached_tokens': 0}}, 'model_name': 'gpt-3.5-turbo-0125', 'system_fingerprint': None, 'id': 'chatcmpl-C9t59heLnBJh3agTf7aj9V6v3Y1jU', 'service_tier': 'default', 'finish_reason': 'stop', 'logprobs': None}, id='run--f991e52c-de6f-44b7-9a15-5ef982f29592-0', usage_metadata={'input_tokens': 28, 'output_tokens': 17, 'total_tokens': 45, 'input_token_details': {'audio': 0, 'cache_read': 0}, 'output_token_details': {'audio': 0, 'reasoning': 0}})"
      ]
     },
     "execution_count": 17,
     "metadata": {},
     "output_type": "execute_result"
    }
   ],
   "source": [
    "%%time\n",
    "chat.invoke(mensagens)"
   ]
  },
  {
   "cell_type": "code",
   "execution_count": 18,
   "id": "e3100c98",
   "metadata": {},
   "outputs": [
    {
     "name": "stdout",
     "output_type": "stream",
     "text": [
      "CPU times: total: 0 ns\n",
      "Wall time: 1.51 ms\n"
     ]
    },
    {
     "data": {
      "text/plain": [
       "AIMessage(content='A sexta-feira. Afinal, a semana tem 5 dias, né?', additional_kwargs={'refusal': None}, response_metadata={'token_usage': {'completion_tokens': 17, 'prompt_tokens': 28, 'total_tokens': 45, 'completion_tokens_details': {'accepted_prediction_tokens': 0, 'audio_tokens': 0, 'reasoning_tokens': 0, 'rejected_prediction_tokens': 0}, 'prompt_tokens_details': {'audio_tokens': 0, 'cached_tokens': 0}}, 'model_name': 'gpt-3.5-turbo-0125', 'system_fingerprint': None, 'id': 'chatcmpl-C9t59heLnBJh3agTf7aj9V6v3Y1jU', 'service_tier': 'default', 'finish_reason': 'stop', 'logprobs': None}, id='run--f991e52c-de6f-44b7-9a15-5ef982f29592-0', usage_metadata={'input_tokens': 28, 'output_tokens': 17, 'total_tokens': 45, 'input_token_details': {'audio': 0, 'cache_read': 0}, 'output_token_details': {'audio': 0, 'reasoning': 0}, 'total_cost': 0})"
      ]
     },
     "execution_count": 18,
     "metadata": {},
     "output_type": "execute_result"
    }
   ],
   "source": [
    "%%time\n",
    "chat.invoke(mensagens)"
   ]
  }
 ],
 "metadata": {
  "kernelspec": {
   "display_name": ".venv",
   "language": "python",
   "name": "python3"
  },
  "language_info": {
   "codemirror_mode": {
    "name": "ipython",
    "version": 3
   },
   "file_extension": ".py",
   "mimetype": "text/x-python",
   "name": "python",
   "nbconvert_exporter": "python",
   "pygments_lexer": "ipython3",
   "version": "3.13.5"
  }
 },
 "nbformat": 4,
 "nbformat_minor": 5
}
