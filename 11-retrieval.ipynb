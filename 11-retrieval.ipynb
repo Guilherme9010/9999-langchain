{
 "cells": [
  {
   "cell_type": "markdown",
   "metadata": {},
   "source": [
    "### Information Retrieval\n",
    "- Rodar com .venv (python 3.13.5)"
   ]
  },
  {
   "cell_type": "code",
   "execution_count": 1,
   "metadata": {},
   "outputs": [],
   "source": [
    "from langchain_community.document_loaders.pdf import PyPDFLoader\n",
    "from langchain_text_splitters import RecursiveCharacterTextSplitter"
   ]
  },
  {
   "cell_type": "markdown",
   "metadata": {},
   "source": [
    "### Passos 1 e 2: Document Loader & Text Splitting"
   ]
  },
  {
   "cell_type": "code",
   "execution_count": 2,
   "metadata": {},
   "outputs": [
    {
     "name": "stderr",
     "output_type": "stream",
     "text": [
      "Ignoring wrong pointing object 16 0 (offset 0)\n",
      "Ignoring wrong pointing object 18 0 (offset 0)\n",
      "Ignoring wrong pointing object 20 0 (offset 0)\n",
      "Ignoring wrong pointing object 22 0 (offset 0)\n",
      "Ignoring wrong pointing object 42 0 (offset 0)\n",
      "Ignoring wrong pointing object 50 0 (offset 0)\n",
      "Ignoring wrong pointing object 52 0 (offset 0)\n",
      "Ignoring wrong pointing object 54 0 (offset 0)\n",
      "Ignoring wrong pointing object 56 0 (offset 0)\n",
      "Ignoring wrong pointing object 58 0 (offset 0)\n",
      "Ignoring wrong pointing object 70 0 (offset 0)\n",
      "Ignoring wrong pointing object 72 0 (offset 0)\n",
      "Ignoring wrong pointing object 89 0 (offset 0)\n",
      "Ignoring wrong pointing object 91 0 (offset 0)\n",
      "Ignoring wrong pointing object 103 0 (offset 0)\n",
      "Ignoring wrong pointing object 108 0 (offset 0)\n",
      "Ignoring wrong pointing object 149 0 (offset 0)\n",
      "Ignoring wrong pointing object 155 0 (offset 0)\n",
      "Ignoring wrong pointing object 158 0 (offset 0)\n",
      "Ignoring wrong pointing object 160 0 (offset 0)\n",
      "Ignoring wrong pointing object 163 0 (offset 0)\n",
      "Ignoring wrong pointing object 165 0 (offset 0)\n"
     ]
    }
   ],
   "source": [
    "caminhos = [\n",
    "    \"files/apostila.pdf\",\n",
    "    \"files/LLM.pdf\"\n",
    "    ]\n",
    "\n",
    "paginas = []\n",
    "\n",
    "for caminho in caminhos:\n",
    "    loader = PyPDFLoader(caminho)\n",
    "    paginas.extend(loader.load())\n",
    "\n",
    "recur_split = RecursiveCharacterTextSplitter(\n",
    "    chunk_size=500,\n",
    "    chunk_overlap=50,\n",
    "    separators=[\"\\n\\n\", \"\\n\", \".\", \" \", \"\"]\n",
    ")\n",
    "\n",
    "documents = recur_split.split_documents(paginas)"
   ]
  },
  {
   "cell_type": "markdown",
   "metadata": {},
   "source": [
    "### Verificar organização dos documentos"
   ]
  },
  {
   "cell_type": "code",
   "execution_count": 3,
   "metadata": {},
   "outputs": [],
   "source": [
    "for i, doc in enumerate(documents):\n",
    "    doc.metadata['source'] = doc.metadata['source'].replace('files/', '')\n",
    "    doc.metadata['doc_id'] = i"
   ]
  },
  {
   "cell_type": "code",
   "execution_count": 10,
   "metadata": {},
   "outputs": [
    {
     "data": {
      "text/plain": [
       "{'producer': 'Microsoft® Word 2013',\n",
       " 'creator': 'Microsoft® Word 2013',\n",
       " 'creationdate': '2016-05-04T10:06:39-03:00',\n",
       " 'author': 'lucas',\n",
       " 'moddate': '2016-05-04T10:06:39-03:00',\n",
       " 'source': 'apostila.pdf',\n",
       " 'total_pages': 28,\n",
       " 'page': 1,\n",
       " 'page_label': '2',\n",
       " 'doc_id': 2}"
      ]
     },
     "execution_count": 10,
     "metadata": {},
     "output_type": "execute_result"
    }
   ],
   "source": [
    "documents[2].metadata"
   ]
  },
  {
   "cell_type": "markdown",
   "metadata": {},
   "source": [
    "### Passos 3 e 4: Embedding & Vector Store"
   ]
  },
  {
   "cell_type": "code",
   "execution_count": 11,
   "metadata": {},
   "outputs": [],
   "source": [
    "from langchain_openai import OpenAIEmbeddings\n",
    "from langchain_community.vectorstores.chroma import Chroma\n",
    "\n",
    "embeddings_model = OpenAIEmbeddings()"
   ]
  },
  {
   "cell_type": "code",
   "execution_count": 12,
   "metadata": {},
   "outputs": [],
   "source": [
    "diretorio = 'files/chroma_retrival_bd'\n",
    "\n",
    "vectordb = Chroma.from_documents(\n",
    "    documents=documents,\n",
    "    embedding=embeddings_model,\n",
    "    persist_directory=diretorio\n",
    ")"
   ]
  },
  {
   "cell_type": "markdown",
   "metadata": {},
   "source": [
    "### Semantic Search"
   ]
  },
  {
   "cell_type": "code",
   "execution_count": 13,
   "metadata": {},
   "outputs": [
    {
     "name": "stdout",
     "output_type": "stream",
     "text": [
      ". Se você quiser se aprofundar um pouco mais e expandir seus conhecimentos e compreensão dos fundamentos dos LLMs, recomendamos conferir nosso curso sobre LLMs. Você aprenderá como desenvolver aplicativos prontos para produção com LLMs e se aprofundará na teoria por trás dos modelos de fundação\n",
      "========{'moddate': \"D:20231017132635Z00'00'\", 'page_label': '8', 'source': 'LLM.pdf', 'doc_id': 139, 'producer': 'macOS Version 13.5 (Build 22G74) Quartz PDFContext', 'total_pages': 9, 'creator': 'PyPDF', 'page': 7, 'creationdate': \"D:20231017132635Z00'00'\"}\n",
      "\n",
      "Introdução   Definição de LLM (tradução livre: grandes modelos de linguagem) LLMs são sistemas de IA desenvolvidos para processar e analisar enormes quantidades de dados de linguagem natural e, em seguida, usar essas informações para gerar respostas às solicitações dos usuários\n",
      "========{'producer': 'macOS Version 13.5 (Build 22G74) Quartz PDFContext', 'source': 'LLM.pdf', 'page_label': '2', 'doc_id': 98, 'total_pages': 9, 'creator': 'PyPDF', 'moddate': \"D:20231017132635Z00'00'\", 'page': 1, 'creationdate': \"D:20231017132635Z00'00'\"}\n",
      "\n",
      "Conclusão e diretrizes gerais Em última análise, cada organização terá desafios únicos a superar, e não existe uma abordagem única para os LLMs. À medida que o mundo se torna mais orientado a dados, tudo, incluindo os LLMs, dependerá de uma base sólida de dados. Os LLMs são ferramentas incríveis, mas devem ser usados e implementados sobre essa base sólida de dados\n",
      "========{'page': 6, 'doc_id': 135, 'total_pages': 9, 'producer': 'macOS Version 13.5 (Build 22G74) Quartz PDFContext', 'moddate': \"D:20231017132635Z00'00'\", 'source': 'LLM.pdf', 'page_label': '7', 'creator': 'PyPDF', 'creationdate': \"D:20231017132635Z00'00'\"}\n",
      "\n"
     ]
    }
   ],
   "source": [
    "pergunta = \"O que é LLM?\"\n",
    "docs = vectordb.similarity_search(pergunta, k=3)\n",
    "for doc in docs:\n",
    "    print(doc.page_content)\n",
    "    print(f\"========{doc.metadata}\\n\")"
   ]
  },
  {
   "cell_type": "markdown",
   "metadata": {},
   "source": [
    "### Max Margina Relevance"
   ]
  },
  {
   "cell_type": "code",
   "execution_count": 14,
   "metadata": {},
   "outputs": [
    {
     "name": "stdout",
     "output_type": "stream",
     "text": [
      ". Se você quiser se aprofundar um pouco mais e expandir seus conhecimentos e compreensão dos fundamentos dos LLMs, recomendamos conferir nosso curso sobre LLMs. Você aprenderá como desenvolver aplicativos prontos para produção com LLMs e se aprofundará na teoria por trás dos modelos de fundação\n",
      "========{'creator': 'PyPDF', 'page': 7, 'page_label': '8', 'producer': 'macOS Version 13.5 (Build 22G74) Quartz PDFContext', 'source': 'LLM.pdf', 'doc_id': 139, 'total_pages': 9, 'creationdate': \"D:20231017132635Z00'00'\", 'moddate': \"D:20231017132635Z00'00'\"}\n",
      "\n",
      "E-BOOK \n",
      "Um guia compacto sobre Large Language Models (LLM)\n",
      "========{'doc_id': 96, 'creator': 'PyPDF', 'page': 0, 'total_pages': 9, 'moddate': \"D:20231017132635Z00'00'\", 'source': 'LLM.pdf', 'page_label': '1', 'creationdate': \"D:20231017132635Z00'00'\", 'producer': 'macOS Version 13.5 (Build 22G74) Quartz PDFContext'}\n",
      "\n",
      ".   ANÁLISE DE SENTIMENTO  Frequentemente, uma tarefa difícil de quantificar, os LLMs podem ajudar a analisar emoções e opiniões a partir de um texto. Isso pode ajudar as organizações a coletarem os dados e o feedback necessários para melhorar a satisfação dos clientes\n",
      "========{'page_label': '5', 'doc_id': 118, 'creator': 'PyPDF', 'producer': 'macOS Version 13.5 (Build 22G74) Quartz PDFContext', 'source': 'LLM.pdf', 'creationdate': \"D:20231017132635Z00'00'\", 'total_pages': 9, 'page': 4, 'moddate': \"D:20231017132635Z00'00'\"}\n",
      "\n"
     ]
    }
   ],
   "source": [
    "pergunta = \"O que é LLM?\"\n",
    "docs = vectordb.max_marginal_relevance_search(pergunta, k=3, fetch_k=10)\n",
    "for doc in docs:\n",
    "    print(doc.page_content)\n",
    "    print(f\"========{doc.metadata}\\n\")"
   ]
  },
  {
   "cell_type": "markdown",
   "metadata": {},
   "source": [
    "### FIltragem"
   ]
  },
  {
   "cell_type": "code",
   "execution_count": 15,
   "metadata": {},
   "outputs": [
    {
     "name": "stdout",
     "output_type": "stream",
     "text": [
      ".   Serviços proprietários Como o primeiro serviço amplamente disponível alimentado por LLM, o ChatGPT da OpenAI foi o catalisador explosivo que trouxe os LLMs para o mainstream. O ChatGPT fornece uma interface de usuário (ou API) em que os usuários podem enviar prompts para muitos modelos (GPT-3.5, GPT-4 e outros) e geralmente obter uma resposta rápida\n",
      "========{'page_label': '6', 'creationdate': \"D:20231017132635Z00'00'\", 'source': 'LLM.pdf', 'doc_id': 125, 'total_pages': 9, 'moddate': \"D:20231017132635Z00'00'\", 'producer': 'macOS Version 13.5 (Build 22G74) Quartz PDFContext', 'creator': 'PyPDF', 'page': 5}\n",
      "\n",
      ".  2022 O ChatGPT foi lançado, transformando o GPT-3 e modelos semelhantes em um serviço amplamente acessível aos usuários por meio de uma interface web, o que iniciou um aumento significativo na conscientização pública sobre LLMs e IA generativa.  2023 Os LLMs de código aberto começam a apresentar resultados cada vez mais impressionantes, com lançamentos como Dolly 2.0, LLaMA, Alpaca e Vicuna\n",
      "========{'doc_id': 106, 'page': 2, 'page_label': '3', 'producer': 'macOS Version 13.5 (Build 22G74) Quartz PDFContext', 'creationdate': \"D:20231017132635Z00'00'\", 'creator': 'PyPDF', 'source': 'LLM.pdf', 'moddate': \"D:20231017132635Z00'00'\", 'total_pages': 9}\n",
      "\n",
      "E-BOOK \n",
      "Um guia compacto sobre Large Language Models (LLM)\n",
      "========{'page': 0, 'creationdate': \"D:20231017132635Z00'00'\", 'doc_id': 96, 'moddate': \"D:20231017132635Z00'00'\", 'page_label': '1', 'source': 'LLM.pdf', 'producer': 'macOS Version 13.5 (Build 22G74) Quartz PDFContext', 'creator': 'PyPDF', 'total_pages': 9}\n",
      "\n"
     ]
    }
   ],
   "source": [
    "pergunta = \"O que a apostila de LLM fala sobre a OpenAI e o ChatGPT?\"\n",
    "\n",
    "docs = vectordb.similarity_search(\n",
    "    pergunta,\n",
    "    k=3,\n",
    "    filter={\"source\": \"LLM.pdf\"}\n",
    ")\n",
    "for doc in docs:\n",
    "    print(doc.page_content)\n",
    "    print(f\"========{doc.metadata}\\n\")"
   ]
  },
  {
   "cell_type": "code",
   "execution_count": 16,
   "metadata": {},
   "outputs": [
    {
     "name": "stdout",
     "output_type": "stream",
     "text": [
      ".   Serviços proprietários Como o primeiro serviço amplamente disponível alimentado por LLM, o ChatGPT da OpenAI foi o catalisador explosivo que trouxe os LLMs para o mainstream. O ChatGPT fornece uma interface de usuário (ou API) em que os usuários podem enviar prompts para muitos modelos (GPT-3.5, GPT-4 e outros) e geralmente obter uma resposta rápida\n",
      "==========={'page_label': '6', 'doc_id': 125, 'total_pages': 9, 'moddate': \"D:20231017132635Z00'00'\", 'page': 5, 'source': 'LLM.pdf', 'creationdate': \"D:20231017132635Z00'00'\", 'producer': 'macOS Version 13.5 (Build 22G74) Quartz PDFContext', 'creator': 'PyPDF'}\n",
      "\n",
      "\n",
      "MAIOR ACESSIBILIDADE  O lançamento do ChatGPT abriu as portas para qualquer pessoa com acesso à internet interagir com um dos LLMs mais avançados por meio de uma interface web simples. Isso trouxe os impressionantes avanços dos LLMs para o centro das atenções, uma vez que anteriormente esses modelos mais poderosos estavam disponíveis apenas para pesquisadores com recursos significativos e conhecimento técnico profundo\n",
      "==========={'doc_id': 112, 'producer': 'macOS Version 13.5 (Build 22G74) Quartz PDFContext', 'source': 'LLM.pdf', 'creationdate': \"D:20231017132635Z00'00'\", 'page': 3, 'moddate': \"D:20231017132635Z00'00'\", 'page_label': '4', 'creator': 'PyPDF', 'total_pages': 9}\n",
      "\n",
      "\n",
      ". Comunidades como a Hugging Face reúnem centenas de milhares de modelos de contribuidores que podem ajudar a resolver muitos casos de uso específicos, como geração de texto, resumo e classificação. A comunidade de código aberto está rapidamente alcançando o desempenho dos modelos proprietários, mas ainda não conseguiu igualar o desempenho de algo como o GPT-4.\n",
      "==========={'total_pages': 9, 'page_label': '6', 'producer': 'macOS Version 13.5 (Build 22G74) Quartz PDFContext', 'source': 'LLM.pdf', 'moddate': \"D:20231017132635Z00'00'\", 'creator': 'PyPDF', 'doc_id': 130, 'page': 5, 'creationdate': \"D:20231017132635Z00'00'\"}\n",
      "\n",
      "\n"
     ]
    }
   ],
   "source": [
    "pergunta = 'O que a apostila de LLM fala sobre a OpenAI e o ChatGPT?'\n",
    "\n",
    "docs = vectordb.similarity_search(\n",
    "    pergunta, \n",
    "    k=3,\n",
    "    filter={'$and':\n",
    "            [{'source': {'$in': ['LLM.pdf']}},\n",
    "            {'page': {'$in': [3, 4, 5, 6]}}],\n",
    "            })\n",
    "for doc in docs:\n",
    "    print(doc.page_content)\n",
    "    print(f'==========={doc.metadata}\\n\\n')"
   ]
  },
  {
   "cell_type": "markdown",
   "metadata": {},
   "source": [
    "### LLM Aided Retrieval"
   ]
  },
  {
   "cell_type": "code",
   "execution_count": 17,
   "metadata": {},
   "outputs": [],
   "source": [
    "from langchain_openai.llms import OpenAI\n",
    "from langchain.retrievers.self_query.base import SelfQueryRetriever\n",
    "from langchain.chains.query_constructor.schema import AttributeInfo"
   ]
  },
  {
   "cell_type": "code",
   "execution_count": 18,
   "metadata": {},
   "outputs": [],
   "source": [
    "metadata_info = [\n",
    "    AttributeInfo(\n",
    "        name='source',\n",
    "        description='Nome da apostila de onde o texto original foi retirado. Pode ser \"apostila.pdf\" ou \"LLM.pdf\".',\n",
    "        type='string'\n",
    "    ),\n",
    "    AttributeInfo(\n",
    "        name='page',\n",
    "        description='A página da apostila de onde o texto foi extraído. Número da página.',\n",
    "        type='integer'\n",
    "    ),\n",
    "]\n"
   ]
  },
  {
   "cell_type": "code",
   "execution_count": 19,
   "metadata": {},
   "outputs": [],
   "source": [
    "document_description = 'Apostilas de informações'\n",
    "llm = OpenAI()\n",
    "retriever = SelfQueryRetriever.from_llm(\n",
    "    llm,\n",
    "    vectordb,\n",
    "    document_description,\n",
    "    metadata_info,\n",
    "    verbose=True\n",
    ")"
   ]
  },
  {
   "cell_type": "code",
   "execution_count": 20,
   "metadata": {},
   "outputs": [
    {
     "name": "stderr",
     "output_type": "stream",
     "text": [
      "C:\\Users\\Naja\\AppData\\Local\\Temp\\ipykernel_10956\\2978584755.py:3: LangChainDeprecationWarning: The method `BaseRetriever.get_relevant_documents` was deprecated in langchain-core 0.1.46 and will be removed in 1.0. Use :meth:`~invoke` instead.\n",
      "  docs = retriever.get_relevant_documents(pergunta)\n"
     ]
    },
    {
     "name": "stdout",
     "output_type": "stream",
     "text": [
      ". Comunidades como a Hugging Face reúnem centenas de milhares de modelos de contribuidores que podem ajudar a resolver muitos casos de uso específicos, como geração de texto, resumo e classificação. A comunidade de código aberto está rapidamente alcançando o desempenho dos modelos proprietários, mas ainda não conseguiu igualar o desempenho de algo como o GPT-4.\n",
      "==========={'moddate': \"D:20231017132635Z00'00'\", 'total_pages': 9, 'producer': 'macOS Version 13.5 (Build 22G74) Quartz PDFContext', 'page_label': '6', 'source': 'LLM.pdf', 'creator': 'PyPDF', 'creationdate': \"D:20231017132635Z00'00'\", 'doc_id': 130, 'page': 5}\n",
      "\n",
      "\n",
      ".   Serviços proprietários Como o primeiro serviço amplamente disponível alimentado por LLM, o ChatGPT da OpenAI foi o catalisador explosivo que trouxe os LLMs para o mainstream. O ChatGPT fornece uma interface de usuário (ou API) em que os usuários podem enviar prompts para muitos modelos (GPT-3.5, GPT-4 e outros) e geralmente obter uma resposta rápida\n",
      "==========={'moddate': \"D:20231017132635Z00'00'\", 'page_label': '6', 'total_pages': 9, 'page': 5, 'source': 'LLM.pdf', 'producer': 'macOS Version 13.5 (Build 22G74) Quartz PDFContext', 'creationdate': \"D:20231017132635Z00'00'\", 'doc_id': 125, 'creator': 'PyPDF'}\n",
      "\n",
      "\n",
      "2018 O Google apresentou o BERT (Bidirectional Encoder Representations from Transformers), que foi um grande salto na arquitetura e abriu caminho para futuros grandes modelos de linguagem.  2020 A OpenAI lançou o GPT-3, que se tornou o maior modelo com 175 bilhões de parâmetros e estabeleceu um novo referencial de desempenho para tarefas relacionadas à linguagem\n",
      "==========={'doc_id': 105, 'page_label': '3', 'total_pages': 9, 'moddate': \"D:20231017132635Z00'00'\", 'producer': 'macOS Version 13.5 (Build 22G74) Quartz PDFContext', 'source': 'LLM.pdf', 'page': 2, 'creator': 'PyPDF', 'creationdate': \"D:20231017132635Z00'00'\"}\n",
      "\n",
      "\n",
      ".  2022 O ChatGPT foi lançado, transformando o GPT-3 e modelos semelhantes em um serviço amplamente acessível aos usuários por meio de uma interface web, o que iniciou um aumento significativo na conscientização pública sobre LLMs e IA generativa.  2023 Os LLMs de código aberto começam a apresentar resultados cada vez mais impressionantes, com lançamentos como Dolly 2.0, LLaMA, Alpaca e Vicuna\n",
      "==========={'total_pages': 9, 'doc_id': 106, 'creator': 'PyPDF', 'page': 2, 'producer': 'macOS Version 13.5 (Build 22G74) Quartz PDFContext', 'page_label': '3', 'source': 'LLM.pdf', 'moddate': \"D:20231017132635Z00'00'\", 'creationdate': \"D:20231017132635Z00'00'\"}\n",
      "\n",
      "\n"
     ]
    }
   ],
   "source": [
    "pergunta = 'O que a apostila de LLM fala sobre a OpenAI, ChatGPT e Hugging Face?'\n",
    "\n",
    "docs = retriever.get_relevant_documents(pergunta)\n",
    "for doc in docs:\n",
    "    print(doc.page_content)\n",
    "    print(f'==========={doc.metadata}\\n\\n')"
   ]
  }
 ],
 "metadata": {
  "kernelspec": {
   "display_name": ".venv",
   "language": "python",
   "name": "python3"
  },
  "language_info": {
   "codemirror_mode": {
    "name": "ipython",
    "version": 3
   },
   "file_extension": ".py",
   "mimetype": "text/x-python",
   "name": "python",
   "nbconvert_exporter": "python",
   "pygments_lexer": "ipython3",
   "version": "3.13.5"
  }
 },
 "nbformat": 4,
 "nbformat_minor": 2
}
