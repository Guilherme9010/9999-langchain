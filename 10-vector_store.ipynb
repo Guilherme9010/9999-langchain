{
 "cells": [
  {
   "cell_type": "markdown",
   "metadata": {},
   "source": [
    "### Vectore Store\n",
    "- Rodar com .venv (python 3.13.5)"
   ]
  },
  {
   "cell_type": "markdown",
   "metadata": {},
   "source": [
    "#### Passo 1: Carregar documento (Document Loader)"
   ]
  },
  {
   "cell_type": "code",
   "execution_count": 1,
   "metadata": {},
   "outputs": [],
   "source": [
    "from langchain_community.document_loaders.pdf import PyPDFLoader\n",
    "from langchain_text_splitters import RecursiveCharacterTextSplitter"
   ]
  },
  {
   "cell_type": "code",
   "execution_count": 2,
   "metadata": {},
   "outputs": [],
   "source": [
    "caminho = \"files/apostila.pdf\"\n",
    "loader = PyPDFLoader(caminho)\n",
    "paginas = loader.load()"
   ]
  },
  {
   "cell_type": "code",
   "execution_count": 3,
   "metadata": {},
   "outputs": [
    {
     "data": {
      "text/plain": [
       "28"
      ]
     },
     "execution_count": 3,
     "metadata": {},
     "output_type": "execute_result"
    }
   ],
   "source": [
    "len(paginas)"
   ]
  },
  {
   "cell_type": "markdown",
   "metadata": {},
   "source": [
    "#### Passo 2: Aplicar Text Splitting"
   ]
  },
  {
   "cell_type": "code",
   "execution_count": null,
   "metadata": {},
   "outputs": [
    {
     "data": {
      "text/plain": [
       "96"
      ]
     },
     "execution_count": 4,
     "metadata": {},
     "output_type": "execute_result"
    }
   ],
   "source": [
    "recur_split = RecursiveCharacterTextSplitter(\n",
    "    chunk_size=500,\n",
    "    chunk_overlap=50,\n",
    "    separators=[\"\\n\\n\", \"\\n\", \".\", \" \", \"\"])\n",
    "documents = recur_split.split_documents(paginas)\n",
    "len(documents)"
   ]
  },
  {
   "cell_type": "markdown",
   "metadata": {},
   "source": [
    "#### Passo 3: Aplicar Embedding"
   ]
  },
  {
   "cell_type": "code",
   "execution_count": 5,
   "metadata": {},
   "outputs": [],
   "source": [
    "from langchain_openai import OpenAIEmbeddings\n",
    "\n",
    "embedding_model = OpenAIEmbeddings()"
   ]
  },
  {
   "cell_type": "markdown",
   "metadata": {},
   "source": [
    "#### Passo 4: Criar Vector Store"
   ]
  },
  {
   "cell_type": "code",
   "execution_count": null,
   "metadata": {},
   "outputs": [],
   "source": [
    "from langchain_chroma import Chroma\n",
    "\n",
    "diretorio = \"files/chroma_vectorstore\"\n",
    "\n",
    "vector_store = Chroma.from_documents(\n",
    "    documents=documents,\n",
    "    embedding=embedding_model,\n",
    "    persist_directory=diretorio)"
   ]
  },
  {
   "cell_type": "code",
   "execution_count": 7,
   "metadata": {},
   "outputs": [
    {
     "data": {
      "text/plain": [
       "288"
      ]
     },
     "execution_count": 7,
     "metadata": {},
     "output_type": "execute_result"
    }
   ],
   "source": [
    "vector_store._collection.count()"
   ]
  },
  {
   "cell_type": "code",
   "execution_count": 8,
   "metadata": {},
   "outputs": [],
   "source": [
    "vector_store = Chroma(\n",
    "    embedding_function=embedding_model,\n",
    "    persist_directory=diretorio\n",
    ")"
   ]
  },
  {
   "cell_type": "code",
   "execution_count": 9,
   "metadata": {},
   "outputs": [
    {
     "data": {
      "text/plain": [
       "5"
      ]
     },
     "execution_count": 9,
     "metadata": {},
     "output_type": "execute_result"
    }
   ],
   "source": [
    "pergunta = \"Principais métodos para manipulação de strings?\"\n",
    "\n",
    "docs = vector_store.similarity_search(pergunta, k=5)\n",
    "len(docs)"
   ]
  },
  {
   "cell_type": "code",
   "execution_count": 10,
   "metadata": {},
   "outputs": [
    {
     "name": "stdout",
     "output_type": "stream",
     "text": [
      "7 \n",
      " \n",
      "3.2 Manipulação de strings \n",
      " \n",
      "Em Python, existem vária s funções (métodos) para manipular strings .  Na tabela a seguir  são \n",
      "apresentados os principais métodos para a manipulação as strings. \n",
      " \n",
      "Tabela 2 - Manipulação de strings \n",
      " \n",
      "Método  Descrição  Exemplo \n",
      " \n",
      "len() Retorna o tamanho da string. \n",
      "teste = “Apostila de Python” \n",
      "len(teste) \n",
      "18 \n",
      " \n",
      "capitalize() Retorna a string com a primeira letra maiúscula  \n",
      "a = \"python\" \n",
      "a.capitalize() \n",
      "'Python' \n",
      " \n",
      "count()\n",
      "==== {'creator': 'Microsoft® Word 2013', 'author': 'lucas', 'page_label': '10', 'moddate': '2016-05-04T10:06:39-03:00', 'total_pages': 28, 'source': 'files/apostila.pdf', 'page': 9, 'creationdate': '2016-05-04T10:06:39-03:00', 'producer': 'Microsoft® Word 2013'}\n",
      "\n",
      "7 \n",
      " \n",
      "3.2 Manipulação de strings \n",
      " \n",
      "Em Python, existem vária s funções (métodos) para manipular strings .  Na tabela a seguir  são \n",
      "apresentados os principais métodos para a manipulação as strings. \n",
      " \n",
      "Tabela 2 - Manipulação de strings \n",
      " \n",
      "Método  Descrição  Exemplo \n",
      " \n",
      "len() Retorna o tamanho da string. \n",
      "teste = “Apostila de Python” \n",
      "len(teste) \n",
      "18 \n",
      " \n",
      "capitalize() Retorna a string com a primeira letra maiúscula  \n",
      "a = \"python\" \n",
      "a.capitalize() \n",
      "'Python' \n",
      " \n",
      "count()\n",
      "==== {'creationdate': '2016-05-04T10:06:39-03:00', 'producer': 'Microsoft® Word 2013', 'page': 9, 'creator': 'Microsoft® Word 2013', 'source': 'files/apostila.pdf', 'page_label': '10', 'author': 'lucas', 'moddate': '2016-05-04T10:06:39-03:00', 'total_pages': 28}\n",
      "\n",
      "7 \n",
      " \n",
      "3.2 Manipulação de strings \n",
      " \n",
      "Em Python, existem vária s funções (métodos) para manipular strings .  Na tabela a seguir  são \n",
      "apresentados os principais métodos para a manipulação as strings. \n",
      " \n",
      "Tabela 2 - Manipulação de strings \n",
      " \n",
      "Método  Descrição  Exemplo \n",
      " \n",
      "len() Retorna o tamanho da string. \n",
      "teste = “Apostila de Python” \n",
      "len(teste) \n",
      "18 \n",
      " \n",
      "capitalize() Retorna a string com a primeira letra maiúscula  \n",
      "a = \"python\" \n",
      "a.capitalize() \n",
      "'Python' \n",
      " \n",
      "count()\n",
      "==== {'page': 9, 'moddate': '2016-05-04T10:06:39-03:00', 'author': 'lucas', 'source': 'files/apostila.pdf', 'page_label': '10', 'creator': 'Microsoft® Word 2013', 'total_pages': 28, 'creationdate': '2016-05-04T10:06:39-03:00', 'producer': 'Microsoft® Word 2013'}\n",
      "\n",
      "3.1 Concatenação de strings ................................ ................................ ........................  6 \n",
      "3.2 Manipulação de strings ................................ ................................ ..........................  7 \n",
      "3.3 Fatiamento de strings ................................ ................................ ............................  8\n",
      "==== {'total_pages': 28, 'creationdate': '2016-05-04T10:06:39-03:00', 'producer': 'Microsoft® Word 2013', 'page': 1, 'page_label': '2', 'author': 'lucas', 'moddate': '2016-05-04T10:06:39-03:00', 'creator': 'Microsoft® Word 2013', 'source': 'files/apostila.pdf'}\n",
      "\n",
      "3.1 Concatenação de strings ................................ ................................ ........................  6 \n",
      "3.2 Manipulação de strings ................................ ................................ ..........................  7 \n",
      "3.3 Fatiamento de strings ................................ ................................ ............................  8\n",
      "==== {'creator': 'Microsoft® Word 2013', 'page': 1, 'producer': 'Microsoft® Word 2013', 'source': 'files/apostila.pdf', 'moddate': '2016-05-04T10:06:39-03:00', 'total_pages': 28, 'page_label': '2', 'author': 'lucas', 'creationdate': '2016-05-04T10:06:39-03:00'}\n",
      "\n"
     ]
    }
   ],
   "source": [
    "for doc in docs:\n",
    "    print(doc.page_content)\n",
    "    print(f\"==== {doc.metadata}\\n\")"
   ]
  }
 ],
 "metadata": {
  "kernelspec": {
   "display_name": ".venv",
   "language": "python",
   "name": "python3"
  },
  "language_info": {
   "codemirror_mode": {
    "name": "ipython",
    "version": 3
   },
   "file_extension": ".py",
   "mimetype": "text/x-python",
   "name": "python",
   "nbconvert_exporter": "python",
   "pygments_lexer": "ipython3",
   "version": "3.13.5"
  }
 },
 "nbformat": 4,
 "nbformat_minor": 2
}
